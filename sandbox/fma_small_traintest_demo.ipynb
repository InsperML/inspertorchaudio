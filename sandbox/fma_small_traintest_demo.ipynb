{
 "cells": [
  {
   "cell_type": "markdown",
   "id": "0f602650",
   "metadata": {},
   "source": [
    "# Demo: train and test on FMA small"
   ]
  },
  {
   "cell_type": "code",
   "execution_count": 1,
   "id": "04c657f6",
   "metadata": {},
   "outputs": [],
   "source": [
    "import os\n",
    "os.environ[\"MPG123_VERBOSE\"] = \"0\"\n",
    "\n",
    "import inspertorchaudio.data.datasets.fma_dataset as fma_dataset\n",
    "import inspertorchaudio.models.dieleman2014 as dieleman2014\n",
    "import inspertorchaudio.learning.supervised as supervised_learning\n",
    "\n",
    "from torch.utils.data import DataLoader\n",
    "from torch.optim import Adam\n",
    "from pathlib import Path\n",
    "\n",
    "FMA_DIRECTORY = Path(\"/mnt/data2/fma\")\n",
    "METADATA_SUBDIRECTORY = FMA_DIRECTORY / \"fma_metadata\"\n",
    "TRACKS_CSV_PATH = METADATA_SUBDIRECTORY / \"tracks.csv\""
   ]
  },
  {
   "cell_type": "code",
   "execution_count": 2,
   "id": "9d5d3ed0",
   "metadata": {},
   "outputs": [
    {
     "name": "stdout",
     "output_type": "stream",
     "text": [
      "Checking training dataset files...\n"
     ]
    },
    {
     "name": "stderr",
     "output_type": "stream",
     "text": [
      "100%|██████████| 6394/6394 [00:07<00:00, 879.98it/s]\n"
     ]
    },
    {
     "name": "stdout",
     "output_type": "stream",
     "text": [
      "Checking validation dataset files...\n"
     ]
    },
    {
     "name": "stderr",
     "output_type": "stream",
     "text": [
      "100%|██████████| 800/800 [00:00<00:00, 852.08it/s]\n"
     ]
    },
    {
     "name": "stdout",
     "output_type": "stream",
     "text": [
      "Checking test dataset files...\n"
     ]
    },
    {
     "name": "stderr",
     "output_type": "stream",
     "text": [
      "100%|██████████| 800/800 [00:00<00:00, 897.06it/s]\n"
     ]
    }
   ],
   "source": [
    "train_dataset, val_dataset, test_dataset, label_encoder = fma_dataset.fma_dataset(\n",
    "    tracks_csv_full_path=TRACKS_CSV_PATH,\n",
    "    audio_dir_full_path=FMA_DIRECTORY / \"fma_wav16k\",\n",
    "    subset='small',\n",
    "    target_sample_rate=16000,\n",
    "    check_dataset_files=True,\n",
    ")"
   ]
  },
  {
   "cell_type": "code",
   "execution_count": 3,
   "id": "2fe22257",
   "metadata": {},
   "outputs": [
    {
     "data": {
      "text/plain": [
       "(6376, 800, 800)"
      ]
     },
     "execution_count": 3,
     "metadata": {},
     "output_type": "execute_result"
    }
   ],
   "source": [
    "len(train_dataset), len(val_dataset), len(test_dataset)"
   ]
  },
  {
   "cell_type": "code",
   "execution_count": 14,
   "id": "570cce34",
   "metadata": {},
   "outputs": [],
   "source": [
    "batch_size = 256\n",
    "kwargs = {\n",
    "     'num_workers' : 1,\n",
    "     'pin_memory' : True,\n",
    "     'prefetch_factor' : 3,\n",
    "}\n",
    "train_dataloader = DataLoader(train_dataset, batch_size=batch_size, shuffle=True, **kwargs)\n",
    "val_dataloader = DataLoader(val_dataset, batch_size=batch_size, shuffle=False, **kwargs)\n",
    "test_dataloader = DataLoader(test_dataset, batch_size=batch_size, shuffle=False, **kwargs)"
   ]
  },
  {
   "cell_type": "code",
   "execution_count": null,
   "id": "169abfa0",
   "metadata": {},
   "outputs": [
    {
     "data": {
      "text/plain": [
       "DielemanClassifier(\n",
       "  (backbone): Dieleman2014(\n",
       "    (melspectrogram): MelSpectrogram(\n",
       "      (spectrogram): Spectrogram()\n",
       "      (mel_scale): MelScale()\n",
       "    )\n",
       "    (conv1): Conv1d(128, 32, kernel_size=(8,), stride=(1,))\n",
       "    (maxpool1): MaxPool1d(kernel_size=4, stride=4, padding=0, dilation=1, ceil_mode=False)\n",
       "    (conv2): Conv1d(32, 32, kernel_size=(8,), stride=(1,))\n",
       "    (maxpool2): MaxPool1d(kernel_size=4, stride=4, padding=0, dilation=1, ceil_mode=False)\n",
       "    (fc1): Linear(in_features=32, out_features=50, bias=True)\n",
       "    (fc2): Linear(in_features=50, out_features=100, bias=True)\n",
       "  )\n",
       "  (fc): Linear(in_features=100, out_features=8, bias=True)\n",
       ")"
      ]
     },
     "execution_count": 12,
     "metadata": {},
     "output_type": "execute_result"
    }
   ],
   "source": [
    "backbone = dieleman2014.Dieleman2014(\n",
    "    sample_rate = 16000,\n",
    "    n_fft = 1024,\n",
    "    win_length = 256,\n",
    "    hop_length = 256,\n",
    "    f_min = 10.0,\n",
    "    f_max = 6000.0,\n",
    "    n_mels = 128,\n",
    "    power = 1.0,\n",
    "    compression_factor = 1,\n",
    "    n_features_out = 100,\n",
    ")\n",
    "n_classes = len(label_encoder.classes_)\n",
    "\n",
    "classifier = dieleman2014.DielemanClassifier(\n",
    "    backbone=backbone,\n",
    "    n_classes=n_classes,\n",
    ")\n",
    "\n",
    "classifier.cuda()"
   ]
  },
  {
   "cell_type": "code",
   "execution_count": 11,
   "id": "5ab2648a",
   "metadata": {},
   "outputs": [
    {
     "name": "stdout",
     "output_type": "stream",
     "text": [
      "torch.Size([2, 128, 313])\n",
      "torch.Size([2, 32, 306])\n",
      "torch.Size([2, 32, 76])\n",
      "torch.Size([2, 32, 69])\n",
      "torch.Size([2, 32, 17])\n",
      "torch.Size([2, 17, 32])\n",
      "torch.Size([2, 17, 50])\n",
      "torch.Size([2, 17, 100])\n",
      "torch.Size([2, 17, 100])\n",
      "torch.Size([2, 100])\n"
     ]
    }
   ],
   "source": [
    "# DEBUG\n",
    "\n",
    "x, y = next(iter(train_dataloader))\n",
    "y_pred = classifier(x, debug=True)\n"
   ]
  },
  {
   "cell_type": "code",
   "execution_count": 6,
   "id": "0ee80f70",
   "metadata": {},
   "outputs": [
    {
     "name": "stdout",
     "output_type": "stream",
     "text": [
      "torch.Size([128, 80000]) torch.Size([128])\n"
     ]
    }
   ],
   "source": [
    "x, y = next(iter(train_dataloader))\n",
    "print(x.shape, y.shape)"
   ]
  },
  {
   "cell_type": "code",
   "execution_count": 9,
   "id": "43dec6de",
   "metadata": {},
   "outputs": [],
   "source": [
    "optimizer = Adam(classifier.parameters(), lr=1e-4)\n"
   ]
  },
  {
   "cell_type": "code",
   "execution_count": 15,
   "id": "65c3a1f0",
   "metadata": {},
   "outputs": [
    {
     "name": "stdout",
     "output_type": "stream",
     "text": [
      "Using CUDA: True\n",
      "Epoch 1/200\n"
     ]
    },
    {
     "name": "stderr",
     "output_type": "stream",
     "text": [
      "Training: 100%|██████████| 25/25 [00:15<00:00,  1.63it/s]\n"
     ]
    },
    {
     "name": "stdout",
     "output_type": "stream",
     "text": [
      "Average Train Loss: 2.0958\n"
     ]
    },
    {
     "name": "stderr",
     "output_type": "stream",
     "text": [
      "Evaluating: 100%|██████████| 4/4 [00:01<00:00,  2.09it/s]\n"
     ]
    },
    {
     "name": "stdout",
     "output_type": "stream",
     "text": [
      "Average Validation Loss: 2.1292, Average Validation Accuracy: 0.1045\n",
      "Epoch 1 completed.\n",
      "\n",
      "Epoch 2/200\n"
     ]
    },
    {
     "name": "stderr",
     "output_type": "stream",
     "text": [
      "Training: 100%|██████████| 25/25 [00:14<00:00,  1.78it/s]\n"
     ]
    },
    {
     "name": "stdout",
     "output_type": "stream",
     "text": [
      "Average Train Loss: 2.0957\n"
     ]
    },
    {
     "name": "stderr",
     "output_type": "stream",
     "text": [
      "Evaluating: 100%|██████████| 4/4 [00:01<00:00,  2.00it/s]\n"
     ]
    },
    {
     "name": "stdout",
     "output_type": "stream",
     "text": [
      "Average Validation Loss: 2.1284, Average Validation Accuracy: 0.1045\n",
      "Epoch 2 completed.\n",
      "\n",
      "Epoch 3/200\n"
     ]
    },
    {
     "name": "stderr",
     "output_type": "stream",
     "text": [
      "Training: 100%|██████████| 25/25 [00:13<00:00,  1.79it/s]\n"
     ]
    },
    {
     "name": "stdout",
     "output_type": "stream",
     "text": [
      "Average Train Loss: 2.0956\n"
     ]
    },
    {
     "name": "stderr",
     "output_type": "stream",
     "text": [
      "Evaluating: 100%|██████████| 4/4 [00:02<00:00,  1.84it/s]\n"
     ]
    },
    {
     "name": "stdout",
     "output_type": "stream",
     "text": [
      "Average Validation Loss: 2.1295, Average Validation Accuracy: 0.1045\n",
      "Epoch 3 completed.\n",
      "\n",
      "Epoch 4/200\n"
     ]
    },
    {
     "name": "stderr",
     "output_type": "stream",
     "text": [
      "Training: 100%|██████████| 25/25 [00:13<00:00,  1.85it/s]\n"
     ]
    },
    {
     "name": "stdout",
     "output_type": "stream",
     "text": [
      "Average Train Loss: 2.0955\n"
     ]
    },
    {
     "name": "stderr",
     "output_type": "stream",
     "text": [
      "Evaluating: 100%|██████████| 4/4 [00:01<00:00,  2.08it/s]\n"
     ]
    },
    {
     "name": "stdout",
     "output_type": "stream",
     "text": [
      "Average Validation Loss: 2.1292, Average Validation Accuracy: 0.1045\n",
      "Epoch 4 completed.\n",
      "\n",
      "Epoch 5/200\n"
     ]
    },
    {
     "name": "stderr",
     "output_type": "stream",
     "text": [
      "Training: 100%|██████████| 25/25 [00:13<00:00,  1.82it/s]\n"
     ]
    },
    {
     "name": "stdout",
     "output_type": "stream",
     "text": [
      "Average Train Loss: 2.0957\n"
     ]
    },
    {
     "name": "stderr",
     "output_type": "stream",
     "text": [
      "Evaluating: 100%|██████████| 4/4 [00:01<00:00,  2.46it/s]\n"
     ]
    },
    {
     "name": "stdout",
     "output_type": "stream",
     "text": [
      "Average Validation Loss: 2.1296, Average Validation Accuracy: 0.1045\n",
      "Epoch 5 completed.\n",
      "\n",
      "Epoch 6/200\n"
     ]
    },
    {
     "name": "stderr",
     "output_type": "stream",
     "text": [
      "Training: 100%|██████████| 25/25 [00:13<00:00,  1.79it/s]\n"
     ]
    },
    {
     "name": "stdout",
     "output_type": "stream",
     "text": [
      "Average Train Loss: 2.0957\n"
     ]
    },
    {
     "name": "stderr",
     "output_type": "stream",
     "text": [
      "Evaluating: 100%|██████████| 4/4 [00:01<00:00,  2.15it/s]\n"
     ]
    },
    {
     "name": "stdout",
     "output_type": "stream",
     "text": [
      "Average Validation Loss: 2.1292, Average Validation Accuracy: 0.1045\n",
      "Epoch 6 completed.\n",
      "\n",
      "Epoch 7/200\n"
     ]
    },
    {
     "name": "stderr",
     "output_type": "stream",
     "text": [
      "Training: 100%|██████████| 25/25 [00:13<00:00,  1.85it/s]\n"
     ]
    },
    {
     "name": "stdout",
     "output_type": "stream",
     "text": [
      "Average Train Loss: 2.0956\n"
     ]
    },
    {
     "name": "stderr",
     "output_type": "stream",
     "text": [
      "Evaluating: 100%|██████████| 4/4 [00:01<00:00,  2.33it/s]\n"
     ]
    },
    {
     "name": "stdout",
     "output_type": "stream",
     "text": [
      "Average Validation Loss: 2.1294, Average Validation Accuracy: 0.1045\n",
      "Epoch 7 completed.\n",
      "\n",
      "Epoch 8/200\n"
     ]
    },
    {
     "name": "stderr",
     "output_type": "stream",
     "text": [
      "Training: 100%|██████████| 25/25 [00:12<00:00,  2.03it/s]\n"
     ]
    },
    {
     "name": "stdout",
     "output_type": "stream",
     "text": [
      "Average Train Loss: 2.0956\n"
     ]
    },
    {
     "name": "stderr",
     "output_type": "stream",
     "text": [
      "Evaluating: 100%|██████████| 4/4 [00:01<00:00,  2.02it/s]\n"
     ]
    },
    {
     "name": "stdout",
     "output_type": "stream",
     "text": [
      "Average Validation Loss: 2.1295, Average Validation Accuracy: 0.1045\n",
      "Epoch 8 completed.\n",
      "\n",
      "Epoch 9/200\n"
     ]
    },
    {
     "name": "stderr",
     "output_type": "stream",
     "text": [
      "Training: 100%|██████████| 25/25 [00:14<00:00,  1.77it/s]\n"
     ]
    },
    {
     "name": "stdout",
     "output_type": "stream",
     "text": [
      "Average Train Loss: 2.0955\n"
     ]
    },
    {
     "name": "stderr",
     "output_type": "stream",
     "text": [
      "Evaluating: 100%|██████████| 4/4 [00:01<00:00,  2.24it/s]\n"
     ]
    },
    {
     "name": "stdout",
     "output_type": "stream",
     "text": [
      "Average Validation Loss: 2.1290, Average Validation Accuracy: 0.1045\n",
      "Epoch 9 completed.\n",
      "\n",
      "Epoch 10/200\n"
     ]
    },
    {
     "name": "stderr",
     "output_type": "stream",
     "text": [
      "Training: 100%|██████████| 25/25 [00:12<00:00,  2.07it/s]\n"
     ]
    },
    {
     "name": "stdout",
     "output_type": "stream",
     "text": [
      "Average Train Loss: 2.0956\n"
     ]
    },
    {
     "name": "stderr",
     "output_type": "stream",
     "text": [
      "Evaluating: 100%|██████████| 4/4 [00:01<00:00,  2.54it/s]\n"
     ]
    },
    {
     "name": "stdout",
     "output_type": "stream",
     "text": [
      "Average Validation Loss: 2.1291, Average Validation Accuracy: 0.1045\n",
      "Epoch 10 completed.\n",
      "\n",
      "Epoch 11/200\n"
     ]
    },
    {
     "name": "stderr",
     "output_type": "stream",
     "text": [
      "Training: 100%|██████████| 25/25 [00:12<00:00,  2.01it/s]\n"
     ]
    },
    {
     "name": "stdout",
     "output_type": "stream",
     "text": [
      "Average Train Loss: 2.0955\n"
     ]
    },
    {
     "name": "stderr",
     "output_type": "stream",
     "text": [
      "Evaluating: 100%|██████████| 4/4 [00:01<00:00,  2.25it/s]\n"
     ]
    },
    {
     "name": "stdout",
     "output_type": "stream",
     "text": [
      "Average Validation Loss: 2.1287, Average Validation Accuracy: 0.1045\n",
      "Epoch 11 completed.\n",
      "\n",
      "Epoch 12/200\n"
     ]
    },
    {
     "name": "stderr",
     "output_type": "stream",
     "text": [
      "Training:   8%|▊         | 2/25 [00:01<00:16,  1.40it/s]"
     ]
    },
    {
     "name": "stdout",
     "output_type": "stream",
     "text": [
      "Training interrupted by user.\n"
     ]
    },
    {
     "name": "stderr",
     "output_type": "stream",
     "text": [
      "\n"
     ]
    }
   ],
   "source": [
    "supervised_learning.train(\n",
    "    model=classifier,\n",
    "    optimizer=optimizer,\n",
    "    train_dataloader=train_dataloader,\n",
    "    eval_dataloader=val_dataloader,\n",
    "    epochs=200,\n",
    "    patience_for_stop=50,\n",
    "    use_cuda=True,\n",
    "    use_mlflow=False,\n",
    "    use_eval=True,\n",
    ")"
   ]
  },
  {
   "cell_type": "code",
   "execution_count": null,
   "id": "8f1f4092",
   "metadata": {},
   "outputs": [
    {
     "ename": "NameError",
     "evalue": "name 'train_dataset' is not defined",
     "output_type": "error",
     "traceback": [
      "\u001b[31m---------------------------------------------------------------------------\u001b[39m",
      "\u001b[31mNameError\u001b[39m                                 Traceback (most recent call last)",
      "\u001b[36mCell\u001b[39m\u001b[36m \u001b[39m\u001b[32mIn[1]\u001b[39m\u001b[32m, line 1\u001b[39m\n\u001b[32m----> \u001b[39m\u001b[32m1\u001b[39m x = \u001b[43mtrain_dataset\u001b[49m[\u001b[32m0\u001b[39m][\u001b[32m0\u001b[39m].unsqueeze(\u001b[32m0\u001b[39m).cuda()\n\u001b[32m      2\u001b[39m x.shape\n",
      "\u001b[31mNameError\u001b[39m: name 'train_dataset' is not defined"
     ]
    }
   ],
   "source": [
    "x = train_dataset[0][0].unsqueeze(0).cuda()\n",
    "x.shape"
   ]
  },
  {
   "cell_type": "code",
   "execution_count": 2,
   "id": "787f5367",
   "metadata": {},
   "outputs": [
    {
     "ename": "NameError",
     "evalue": "name 'classifier' is not defined",
     "output_type": "error",
     "traceback": [
      "\u001b[31m---------------------------------------------------------------------------\u001b[39m",
      "\u001b[31mNameError\u001b[39m                                 Traceback (most recent call last)",
      "\u001b[36mCell\u001b[39m\u001b[36m \u001b[39m\u001b[32mIn[2]\u001b[39m\u001b[32m, line 1\u001b[39m\n\u001b[32m----> \u001b[39m\u001b[32m1\u001b[39m \u001b[43mclassifier\u001b[49m.backbone(x)\n",
      "\u001b[31mNameError\u001b[39m: name 'classifier' is not defined"
     ]
    }
   ],
   "source": [
    "classifier.backbone(x)"
   ]
  },
  {
   "cell_type": "code",
   "execution_count": null,
   "id": "5a9438cb",
   "metadata": {},
   "outputs": [
    {
     "data": {
      "text/plain": [
       "tensor([[[ 3.3578,  0.3539,  0.2803,  ...,  9.5505, 13.0295, 18.2513],\n",
       "         [ 3.3257,  0.5429,  0.3146,  ..., 13.8293, 19.3040, 19.8438],\n",
       "         [ 3.5678,  0.8666,  0.3766,  ..., 20.0199, 28.7554, 24.4701],\n",
       "         ...,\n",
       "         [ 5.3115, 10.7055, 15.4330,  ..., 12.7678, 12.3853, 29.9546],\n",
       "         [12.1376,  8.6285, 13.7737,  ..., 25.0388,  9.8453, 31.4718],\n",
       "         [14.4836,  6.4290, 11.2217,  ..., 44.2849, 29.0489, 30.4768]]],\n",
       "       device='cuda:0')"
      ]
     },
     "execution_count": 34,
     "metadata": {},
     "output_type": "execute_result"
    }
   ],
   "source": []
  }
 ],
 "metadata": {
  "kernelspec": {
   "display_name": "inspertorchaudio (3.12.9)",
   "language": "python",
   "name": "python3"
  },
  "language_info": {
   "codemirror_mode": {
    "name": "ipython",
    "version": 3
   },
   "file_extension": ".py",
   "mimetype": "text/x-python",
   "name": "python",
   "nbconvert_exporter": "python",
   "pygments_lexer": "ipython3",
   "version": "3.12.9"
  }
 },
 "nbformat": 4,
 "nbformat_minor": 5
}
