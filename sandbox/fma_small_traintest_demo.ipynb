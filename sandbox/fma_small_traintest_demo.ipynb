{
 "cells": [
  {
   "cell_type": "markdown",
   "id": "0f602650",
   "metadata": {},
   "source": [
    "# Demo: train and test on FMA small"
   ]
  },
  {
   "cell_type": "code",
   "execution_count": 9,
   "id": "04c657f6",
   "metadata": {},
   "outputs": [],
   "source": [
    "import os\n",
    "os.environ[\"MPG123_VERBOSE\"] = \"0\"\n",
    "\n",
    "import inspertorchaudio.data.datasets.fma_dataset as fma_dataset\n",
    "import inspertorchaudio.models.dieleman2014 as dieleman2014\n",
    "import inspertorchaudio.learning.supervised as supervised_learning\n",
    "\n",
    "from torch.utils.data import DataLoader\n",
    "from torch.optim import Adam\n",
    "from pathlib import Path\n",
    "\n",
    "FMA_DIRECTORY = Path(\"/mnt/data2/fma\")\n",
    "METADATA_SUBDIRECTORY = FMA_DIRECTORY / \"fma_metadata\"\n",
    "TRACKS_CSV_PATH = METADATA_SUBDIRECTORY / \"tracks.csv\""
   ]
  },
  {
   "cell_type": "code",
   "execution_count": 10,
   "id": "9d5d3ed0",
   "metadata": {},
   "outputs": [
    {
     "name": "stdout",
     "output_type": "stream",
     "text": [
      "Checking training dataset files...\n"
     ]
    },
    {
     "name": "stderr",
     "output_type": "stream",
     "text": [
      "100%|██████████| 6394/6394 [00:09<00:00, 667.54it/s]\n"
     ]
    },
    {
     "name": "stdout",
     "output_type": "stream",
     "text": [
      "Checking validation dataset files...\n"
     ]
    },
    {
     "name": "stderr",
     "output_type": "stream",
     "text": [
      "100%|██████████| 800/800 [00:01<00:00, 687.26it/s]\n"
     ]
    },
    {
     "name": "stdout",
     "output_type": "stream",
     "text": [
      "Checking test dataset files...\n"
     ]
    },
    {
     "name": "stderr",
     "output_type": "stream",
     "text": [
      "100%|██████████| 800/800 [00:01<00:00, 630.59it/s]\n"
     ]
    }
   ],
   "source": [
    "train_dataset, val_dataset, test_dataset, label_encoder = fma_dataset.fma_dataset(\n",
    "    tracks_csv_full_path=TRACKS_CSV_PATH,\n",
    "    audio_dir_full_path=FMA_DIRECTORY / \"fma_wav16k\",\n",
    "    subset='small',\n",
    "    target_sample_rate=16000,\n",
    "    check_dataset_files=True,\n",
    ")"
   ]
  },
  {
   "cell_type": "code",
   "execution_count": 11,
   "id": "2fe22257",
   "metadata": {},
   "outputs": [
    {
     "data": {
      "text/plain": [
       "(6376, 800, 800)"
      ]
     },
     "execution_count": 11,
     "metadata": {},
     "output_type": "execute_result"
    }
   ],
   "source": [
    "len(train_dataset), len(val_dataset), len(test_dataset)"
   ]
  },
  {
   "cell_type": "code",
   "execution_count": 12,
   "id": "570cce34",
   "metadata": {},
   "outputs": [],
   "source": [
    "batch_size = 128\n",
    "\n",
    "train_dataloader = DataLoader(train_dataset, batch_size=batch_size, shuffle=False, num_workers=20, pin_memory=True, prefetch_factor=3)\n",
    "val_dataloader = DataLoader(val_dataset, batch_size=batch_size, shuffle=False, num_workers=20, pin_memory=True, prefetch_factor=3)\n",
    "test_dataloader = DataLoader(test_dataset, batch_size=batch_size, shuffle=False, num_workers=20, pin_memory=True, prefetch_factor=3)"
   ]
  },
  {
   "cell_type": "code",
   "execution_count": 13,
   "id": "169abfa0",
   "metadata": {},
   "outputs": [
    {
     "data": {
      "text/plain": [
       "DielemanClassifier(\n",
       "  (backbone): Dieleman2014(\n",
       "    (melspectrogram): MelSpectrogram(\n",
       "      (spectrogram): Spectrogram()\n",
       "      (mel_scale): MelScale()\n",
       "    )\n",
       "    (conv1): Conv1d(128, 32, kernel_size=(8,), stride=(1,))\n",
       "    (maxpool1): MaxPool1d(kernel_size=4, stride=4, padding=0, dilation=1, ceil_mode=False)\n",
       "    (conv2): Conv1d(32, 32, kernel_size=(8,), stride=(1,))\n",
       "    (maxpool2): MaxPool1d(kernel_size=4, stride=4, padding=0, dilation=1, ceil_mode=False)\n",
       "    (fc1): Linear(in_features=32, out_features=50, bias=True)\n",
       "    (fc2): Linear(in_features=50, out_features=100, bias=True)\n",
       "  )\n",
       "  (fc): Linear(in_features=100, out_features=8, bias=True)\n",
       ")"
      ]
     },
     "execution_count": 13,
     "metadata": {},
     "output_type": "execute_result"
    }
   ],
   "source": [
    "backbone = dieleman2014.Dieleman2014(\n",
    "    sample_rate = 16000,\n",
    "    n_fft = 1024,\n",
    "    win_length = 256,\n",
    "    hop_length = 256,\n",
    "    f_min = 10.0,\n",
    "    f_max = 6000.0,\n",
    "    n_mels = 128,\n",
    "    power = 1.0,\n",
    "    compression_factor = 10000,\n",
    "    n_features_out = 100,\n",
    ")\n",
    "n_classes = len(label_encoder.classes_)\n",
    "\n",
    "classifier = dieleman2014.DielemanClassifier(\n",
    "    backbone=backbone,\n",
    "    n_classes=n_classes,\n",
    ")\n",
    "\n",
    "classifier.cuda()"
   ]
  },
  {
   "cell_type": "code",
   "execution_count": 14,
   "id": "0ee80f70",
   "metadata": {},
   "outputs": [
    {
     "name": "stderr",
     "output_type": "stream",
     "text": [
      "Traceback (most recent call last):\n",
      "  File \"/home/tiago/.local/share/uv/python/cpython-3.12.9-linux-x86_64-gnu/lib/python3.12/multiprocessing/util.py\", line 303, in _run_finalizers\n",
      "    finalizer()\n",
      "  File \"/home/tiago/.local/share/uv/python/cpython-3.12.9-linux-x86_64-gnu/lib/python3.12/multiprocessing/util.py\", line 227, in __call__\n",
      "    res = self._callback(*self._args, **self._kwargs)\n",
      "          ^^^^^^^^^^^^^^^^^^^^^^^^^^^^^^^^^^^^^^^^^^^\n",
      "  File \"/home/tiago/.local/share/uv/python/cpython-3.12.9-linux-x86_64-gnu/lib/python3.12/multiprocessing/util.py\", line 136, in _remove_temp_dir\n",
      "    rmtree(tempdir, onerror=onerror)\n",
      "  File \"/home/tiago/.local/share/uv/python/cpython-3.12.9-linux-x86_64-gnu/lib/python3.12/shutil.py\", line 759, in rmtree\n",
      "    _rmtree_safe_fd(stack, onexc)\n",
      "  File \"/home/tiago/.local/share/uv/python/cpython-3.12.9-linux-x86_64-gnu/lib/python3.12/shutil.py\", line 703, in _rmtree_safe_fd\n",
      "    onexc(func, path, err)\n",
      "  File \"/home/tiago/.local/share/uv/python/cpython-3.12.9-linux-x86_64-gnu/lib/python3.12/shutil.py\", line 750, in onexc\n",
      "    return onerror(func, path, exc_info)\n",
      "           ^^^^^^^^^^^^^^^^^^^^^^^^^^^^^\n",
      "  File \"/home/tiago/.local/share/uv/python/cpython-3.12.9-linux-x86_64-gnu/lib/python3.12/shutil.py\", line 662, in _rmtree_safe_fd\n",
      "    os.rmdir(name, dir_fd=dirfd)\n",
      "OSError: [Errno 39] Directory not empty: '/tmp/pymp-u53jsoxx'\n"
     ]
    },
    {
     "name": "stdout",
     "output_type": "stream",
     "text": [
      "torch.Size([128, 80000]) torch.Size([128])\n"
     ]
    }
   ],
   "source": [
    "x, y = next(iter(train_dataloader))\n",
    "print(x.shape, y.shape)"
   ]
  },
  {
   "cell_type": "code",
   "execution_count": 15,
   "id": "43dec6de",
   "metadata": {},
   "outputs": [],
   "source": [
    "optimizer = Adam(classifier.parameters(), lr=1e-2)\n"
   ]
  },
  {
   "cell_type": "code",
   "execution_count": null,
   "id": "65c3a1f0",
   "metadata": {},
   "outputs": [
    {
     "name": "stdout",
     "output_type": "stream",
     "text": [
      "Using CUDA: True\n",
      "Epoch 1/20\n"
     ]
    },
    {
     "name": "stderr",
     "output_type": "stream",
     "text": [
      "Training: 100%|██████████| 50/50 [00:13<00:00,  3.71it/s]\n"
     ]
    },
    {
     "name": "stdout",
     "output_type": "stream",
     "text": [
      "Average Train Loss: 2.7274\n"
     ]
    },
    {
     "name": "stderr",
     "output_type": "stream",
     "text": [
      "Evaluating: 100%|██████████| 7/7 [00:07<00:00,  1.01s/it]\n"
     ]
    },
    {
     "name": "stdout",
     "output_type": "stream",
     "text": [
      "Average Validation Loss: 2.1002, Average Validation Accuracy: 0.1350\n",
      "Epoch 1 completed.\n",
      "\n",
      "Epoch 2/20\n"
     ]
    },
    {
     "name": "stderr",
     "output_type": "stream",
     "text": [
      "Training: 100%|██████████| 50/50 [00:12<00:00,  4.04it/s]\n"
     ]
    },
    {
     "name": "stdout",
     "output_type": "stream",
     "text": [
      "Average Train Loss: 2.1190\n"
     ]
    },
    {
     "name": "stderr",
     "output_type": "stream",
     "text": [
      "Evaluating: 100%|██████████| 7/7 [00:06<00:00,  1.03it/s]\n"
     ]
    },
    {
     "name": "stdout",
     "output_type": "stream",
     "text": [
      "Average Validation Loss: 2.0741, Average Validation Accuracy: 0.1350\n",
      "Epoch 2 completed.\n",
      "\n",
      "Epoch 3/20\n"
     ]
    },
    {
     "name": "stderr",
     "output_type": "stream",
     "text": [
      "Training: 100%|██████████| 50/50 [00:12<00:00,  3.91it/s]\n"
     ]
    },
    {
     "name": "stdout",
     "output_type": "stream",
     "text": [
      "Average Train Loss: 2.1014\n"
     ]
    },
    {
     "name": "stderr",
     "output_type": "stream",
     "text": [
      "Evaluating: 100%|██████████| 7/7 [00:06<00:00,  1.12it/s]\n"
     ]
    },
    {
     "name": "stdout",
     "output_type": "stream",
     "text": [
      "Average Validation Loss: 2.0774, Average Validation Accuracy: 0.1350\n",
      "Epoch 3 completed.\n",
      "\n",
      "Epoch 4/20\n"
     ]
    },
    {
     "name": "stderr",
     "output_type": "stream",
     "text": [
      "Training: 100%|██████████| 50/50 [00:11<00:00,  4.32it/s]\n"
     ]
    },
    {
     "name": "stdout",
     "output_type": "stream",
     "text": [
      "Average Train Loss: 2.0978\n"
     ]
    },
    {
     "name": "stderr",
     "output_type": "stream",
     "text": [
      "Evaluating: 100%|██████████| 7/7 [00:06<00:00,  1.15it/s]\n"
     ]
    },
    {
     "name": "stdout",
     "output_type": "stream",
     "text": [
      "Average Validation Loss: 2.0772, Average Validation Accuracy: 0.1350\n",
      "Epoch 4 completed.\n",
      "\n",
      "Epoch 5/20\n"
     ]
    },
    {
     "name": "stderr",
     "output_type": "stream",
     "text": [
      "Training: 100%|██████████| 50/50 [00:11<00:00,  4.21it/s]\n"
     ]
    },
    {
     "name": "stdout",
     "output_type": "stream",
     "text": [
      "Average Train Loss: 2.0958\n"
     ]
    },
    {
     "name": "stderr",
     "output_type": "stream",
     "text": [
      "Evaluating: 100%|██████████| 7/7 [00:05<00:00,  1.19it/s]\n"
     ]
    },
    {
     "name": "stdout",
     "output_type": "stream",
     "text": [
      "Average Validation Loss: 2.0777, Average Validation Accuracy: 0.1183\n",
      "Epoch 5 completed.\n",
      "\n",
      "Epoch 6/20\n"
     ]
    },
    {
     "name": "stderr",
     "output_type": "stream",
     "text": [
      "Training: 100%|██████████| 50/50 [00:11<00:00,  4.54it/s]\n"
     ]
    },
    {
     "name": "stdout",
     "output_type": "stream",
     "text": [
      "Average Train Loss: 2.0944\n"
     ]
    },
    {
     "name": "stderr",
     "output_type": "stream",
     "text": [
      "Evaluating: 100%|██████████| 7/7 [00:05<00:00,  1.20it/s]"
     ]
    },
    {
     "name": "stdout",
     "output_type": "stream",
     "text": [
      "Average Validation Loss: 2.0779, Average Validation Accuracy: 0.1183\n",
      "No improvement for 5 epochs, stopping training.\n"
     ]
    },
    {
     "name": "stderr",
     "output_type": "stream",
     "text": [
      "\n"
     ]
    }
   ],
   "source": [
    "supervised_learning.train(\n",
    "    model=classifier,\n",
    "    optimizer=optimizer,\n",
    "    train_dataloader=train_dataloader,\n",
    "    eval_dataloader=val_dataloader,\n",
    "    epochs=20,\n",
    "    patience_for_stop=20,\n",
    "    use_cuda=True,\n",
    "    use_mlflow=False,\n",
    "    use_eval=True,\n",
    ")"
   ]
  },
  {
   "cell_type": "code",
   "execution_count": null,
   "id": "8f1f4092",
   "metadata": {},
   "outputs": [],
   "source": []
  }
 ],
 "metadata": {
  "kernelspec": {
   "display_name": "inspertorchaudio (3.12.9)",
   "language": "python",
   "name": "python3"
  },
  "language_info": {
   "codemirror_mode": {
    "name": "ipython",
    "version": 3
   },
   "file_extension": ".py",
   "mimetype": "text/x-python",
   "name": "python",
   "nbconvert_exporter": "python",
   "pygments_lexer": "ipython3",
   "version": "3.12.9"
  }
 },
 "nbformat": 4,
 "nbformat_minor": 5
}
