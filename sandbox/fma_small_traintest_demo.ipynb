{
 "cells": [
  {
   "cell_type": "markdown",
   "id": "0f602650",
   "metadata": {},
   "source": [
    "# Demo: train and test on FMA small"
   ]
  },
  {
   "cell_type": "code",
   "execution_count": 1,
   "id": "04c657f6",
   "metadata": {},
   "outputs": [],
   "source": [
    "import os\n",
    "os.environ[\"MPG123_VERBOSE\"] = \"0\"\n",
    "\n",
    "import inspertorchaudio.data.datasets.fma_dataset as fma_dataset\n",
    "import inspertorchaudio.models.dieleman2014 as dieleman2014\n",
    "import inspertorchaudio.learning.supervised as supervised_learning\n",
    "\n",
    "from torch.utils.data import DataLoader\n",
    "from torch.optim import Adam\n",
    "from pathlib import Path\n",
    "\n",
    "FMA_DIRECTORY = Path(\"/mnt/data2/fma\")\n",
    "METADATA_SUBDIRECTORY = FMA_DIRECTORY / \"fma_metadata\"\n",
    "TRACKS_CSV_PATH = METADATA_SUBDIRECTORY / \"tracks.csv\""
   ]
  },
  {
   "cell_type": "code",
   "execution_count": 2,
   "id": "9d5d3ed0",
   "metadata": {},
   "outputs": [
    {
     "name": "stdout",
     "output_type": "stream",
     "text": [
      "Checking training dataset files...\n"
     ]
    },
    {
     "name": "stderr",
     "output_type": "stream",
     "text": [
      "100%|██████████| 6394/6394 [00:07<00:00, 876.35it/s] \n"
     ]
    },
    {
     "name": "stdout",
     "output_type": "stream",
     "text": [
      "Checking validation dataset files...\n"
     ]
    },
    {
     "name": "stderr",
     "output_type": "stream",
     "text": [
      "100%|██████████| 800/800 [00:01<00:00, 686.04it/s]\n"
     ]
    },
    {
     "name": "stdout",
     "output_type": "stream",
     "text": [
      "Checking test dataset files...\n"
     ]
    },
    {
     "name": "stderr",
     "output_type": "stream",
     "text": [
      "100%|██████████| 800/800 [00:01<00:00, 650.07it/s]\n"
     ]
    }
   ],
   "source": [
    "train_dataset, val_dataset, test_dataset, label_encoder = fma_dataset.fma_dataset(\n",
    "    tracks_csv_full_path=TRACKS_CSV_PATH,\n",
    "    audio_dir_full_path=FMA_DIRECTORY / \"fma_wav16k\",\n",
    "    subset='small',\n",
    "    target_sample_rate=16000,\n",
    "    check_dataset_files=True,\n",
    ")"
   ]
  },
  {
   "cell_type": "code",
   "execution_count": 3,
   "id": "2fe22257",
   "metadata": {},
   "outputs": [
    {
     "data": {
      "text/plain": [
       "(6376, 800, 800)"
      ]
     },
     "execution_count": 3,
     "metadata": {},
     "output_type": "execute_result"
    }
   ],
   "source": [
    "len(train_dataset), len(val_dataset), len(test_dataset)"
   ]
  },
  {
   "cell_type": "code",
   "execution_count": 4,
   "id": "570cce34",
   "metadata": {},
   "outputs": [],
   "source": [
    "batch_size = 128\n",
    "\n",
    "train_dataloader = DataLoader(train_dataset, batch_size=batch_size, shuffle=False, num_workers=20, pin_memory=True, prefetch_factor=3)\n",
    "val_dataloader = DataLoader(val_dataset, batch_size=batch_size, shuffle=False, num_workers=20, pin_memory=True, prefetch_factor=3)\n",
    "test_dataloader = DataLoader(test_dataset, batch_size=batch_size, shuffle=False, num_workers=20, pin_memory=True, prefetch_factor=3)"
   ]
  },
  {
   "cell_type": "code",
   "execution_count": 5,
   "id": "169abfa0",
   "metadata": {},
   "outputs": [
    {
     "data": {
      "text/plain": [
       "DielemanClassifier(\n",
       "  (backbone): Dieleman2014(\n",
       "    (melspectrogram): MelSpectrogram(\n",
       "      (spectrogram): Spectrogram()\n",
       "      (mel_scale): MelScale()\n",
       "    )\n",
       "    (conv1): Conv1d(128, 32, kernel_size=(8,), stride=(1,))\n",
       "    (maxpool1): MaxPool1d(kernel_size=4, stride=4, padding=0, dilation=1, ceil_mode=False)\n",
       "    (conv2): Conv1d(32, 32, kernel_size=(8,), stride=(1,))\n",
       "    (maxpool2): MaxPool1d(kernel_size=4, stride=4, padding=0, dilation=1, ceil_mode=False)\n",
       "    (fc1): Linear(in_features=32, out_features=50, bias=True)\n",
       "    (fc2): Linear(in_features=50, out_features=100, bias=True)\n",
       "  )\n",
       "  (fc): Linear(in_features=100, out_features=8, bias=True)\n",
       ")"
      ]
     },
     "execution_count": 5,
     "metadata": {},
     "output_type": "execute_result"
    }
   ],
   "source": [
    "backbone = dieleman2014.Dieleman2014(\n",
    "    sample_rate = 16000,\n",
    "    n_fft = 1024,\n",
    "    win_length = 256,\n",
    "    hop_length = 256,\n",
    "    f_min = 10.0,\n",
    "    f_max = 6000.0,\n",
    "    n_mels = 128,\n",
    "    power = 1.0,\n",
    "    compression_factor = 10000,\n",
    "    n_features_out = 100,\n",
    ")\n",
    "n_classes = len(label_encoder.classes_)\n",
    "\n",
    "classifier = dieleman2014.DielemanClassifier(\n",
    "    backbone=backbone,\n",
    "    n_classes=n_classes,\n",
    ")\n",
    "\n",
    "classifier.cuda()"
   ]
  },
  {
   "cell_type": "code",
   "execution_count": 6,
   "id": "0ee80f70",
   "metadata": {},
   "outputs": [
    {
     "name": "stdout",
     "output_type": "stream",
     "text": [
      "torch.Size([128, 80000]) torch.Size([128])\n"
     ]
    }
   ],
   "source": [
    "x, y = next(iter(train_dataloader))\n",
    "print(x.shape, y.shape)"
   ]
  },
  {
   "cell_type": "code",
   "execution_count": 7,
   "id": "43dec6de",
   "metadata": {},
   "outputs": [],
   "source": [
    "optimizer = Adam(classifier.parameters(), lr=1e-2)\n"
   ]
  },
  {
   "cell_type": "code",
   "execution_count": null,
   "id": "65c3a1f0",
   "metadata": {},
   "outputs": [
    {
     "name": "stdout",
     "output_type": "stream",
     "text": [
      "Using CUDA: True\n",
      "Epoch 1/200\n"
     ]
    },
    {
     "name": "stderr",
     "output_type": "stream",
     "text": [
      "Training: 100%|██████████| 50/50 [00:08<00:00,  6.04it/s]\n"
     ]
    },
    {
     "name": "stdout",
     "output_type": "stream",
     "text": [
      "Average Train Loss: 4.2673\n"
     ]
    },
    {
     "name": "stderr",
     "output_type": "stream",
     "text": [
      "Evaluating: 100%|██████████| 7/7 [00:03<00:00,  2.14it/s]\n"
     ]
    },
    {
     "name": "stdout",
     "output_type": "stream",
     "text": [
      "Average Validation Loss: 2.0909, Average Validation Accuracy: 0.1116\n",
      "Epoch 1 completed.\n",
      "\n",
      "Epoch 2/200\n"
     ]
    },
    {
     "name": "stderr",
     "output_type": "stream",
     "text": [
      "Training: 100%|██████████| 50/50 [00:10<00:00,  4.91it/s]\n"
     ]
    },
    {
     "name": "stdout",
     "output_type": "stream",
     "text": [
      "Average Train Loss: 2.0913\n"
     ]
    },
    {
     "name": "stderr",
     "output_type": "stream",
     "text": [
      "Evaluating: 100%|██████████| 7/7 [00:02<00:00,  2.39it/s]\n"
     ]
    },
    {
     "name": "stdout",
     "output_type": "stream",
     "text": [
      "Average Validation Loss: 2.0958, Average Validation Accuracy: 0.1350\n",
      "Epoch 2 completed.\n",
      "\n",
      "Epoch 3/200\n"
     ]
    },
    {
     "name": "stderr",
     "output_type": "stream",
     "text": [
      "Training: 100%|██████████| 50/50 [00:09<00:00,  5.31it/s]\n"
     ]
    },
    {
     "name": "stdout",
     "output_type": "stream",
     "text": [
      "Average Train Loss: 2.1159\n"
     ]
    },
    {
     "name": "stderr",
     "output_type": "stream",
     "text": [
      "Evaluating: 100%|██████████| 7/7 [00:02<00:00,  2.58it/s]\n"
     ]
    },
    {
     "name": "stdout",
     "output_type": "stream",
     "text": [
      "Average Validation Loss: 2.0854, Average Validation Accuracy: 0.1350\n",
      "Epoch 3 completed.\n",
      "\n",
      "Epoch 4/200\n"
     ]
    },
    {
     "name": "stderr",
     "output_type": "stream",
     "text": [
      "Training: 100%|██████████| 50/50 [00:09<00:00,  5.21it/s]\n"
     ]
    },
    {
     "name": "stdout",
     "output_type": "stream",
     "text": [
      "Average Train Loss: 2.1060\n"
     ]
    },
    {
     "name": "stderr",
     "output_type": "stream",
     "text": [
      "Evaluating: 100%|██████████| 7/7 [00:02<00:00,  2.50it/s]\n"
     ]
    },
    {
     "name": "stdout",
     "output_type": "stream",
     "text": [
      "Average Validation Loss: 2.0850, Average Validation Accuracy: 0.1350\n",
      "Epoch 4 completed.\n",
      "\n",
      "Epoch 5/200\n"
     ]
    },
    {
     "name": "stderr",
     "output_type": "stream",
     "text": [
      "Training: 100%|██████████| 50/50 [00:08<00:00,  5.57it/s]\n"
     ]
    },
    {
     "name": "stdout",
     "output_type": "stream",
     "text": [
      "Average Train Loss: 2.1036\n"
     ]
    },
    {
     "name": "stderr",
     "output_type": "stream",
     "text": [
      "Evaluating: 100%|██████████| 7/7 [00:02<00:00,  2.86it/s]\n"
     ]
    },
    {
     "name": "stdout",
     "output_type": "stream",
     "text": [
      "Average Validation Loss: 2.0841, Average Validation Accuracy: 0.1350\n",
      "Epoch 5 completed.\n",
      "\n",
      "Epoch 6/200\n"
     ]
    },
    {
     "name": "stderr",
     "output_type": "stream",
     "text": [
      "Training: 100%|██████████| 50/50 [00:08<00:00,  5.69it/s]\n"
     ]
    },
    {
     "name": "stdout",
     "output_type": "stream",
     "text": [
      "Average Train Loss: 2.1015\n"
     ]
    },
    {
     "name": "stderr",
     "output_type": "stream",
     "text": [
      "Evaluating: 100%|██████████| 7/7 [00:02<00:00,  3.17it/s]\n"
     ]
    },
    {
     "name": "stdout",
     "output_type": "stream",
     "text": [
      "Average Validation Loss: 2.0834, Average Validation Accuracy: 0.1350\n",
      "Epoch 6 completed.\n",
      "\n",
      "Epoch 7/200\n"
     ]
    },
    {
     "name": "stderr",
     "output_type": "stream",
     "text": [
      "Training: 100%|██████████| 50/50 [00:08<00:00,  5.78it/s]\n"
     ]
    },
    {
     "name": "stdout",
     "output_type": "stream",
     "text": [
      "Average Train Loss: 2.0996\n"
     ]
    },
    {
     "name": "stderr",
     "output_type": "stream",
     "text": [
      "Evaluating: 100%|██████████| 7/7 [00:02<00:00,  2.91it/s]\n"
     ]
    },
    {
     "name": "stdout",
     "output_type": "stream",
     "text": [
      "Average Validation Loss: 2.0827, Average Validation Accuracy: 0.1350\n",
      "Epoch 7 completed.\n",
      "\n",
      "Epoch 8/200\n"
     ]
    },
    {
     "name": "stderr",
     "output_type": "stream",
     "text": [
      "Training: 100%|██████████| 50/50 [00:07<00:00,  6.58it/s]\n"
     ]
    },
    {
     "name": "stdout",
     "output_type": "stream",
     "text": [
      "Average Train Loss: 2.0984\n"
     ]
    },
    {
     "name": "stderr",
     "output_type": "stream",
     "text": [
      "Evaluating: 100%|██████████| 7/7 [00:02<00:00,  2.89it/s]\n"
     ]
    },
    {
     "name": "stdout",
     "output_type": "stream",
     "text": [
      "Average Validation Loss: 2.0818, Average Validation Accuracy: 0.1362\n",
      "Epoch 8 completed.\n",
      "\n",
      "Epoch 9/200\n"
     ]
    },
    {
     "name": "stderr",
     "output_type": "stream",
     "text": [
      "Training: 100%|██████████| 50/50 [00:07<00:00,  6.65it/s]\n"
     ]
    },
    {
     "name": "stdout",
     "output_type": "stream",
     "text": [
      "Average Train Loss: 2.0971\n"
     ]
    },
    {
     "name": "stderr",
     "output_type": "stream",
     "text": [
      "Evaluating: 100%|██████████| 7/7 [00:02<00:00,  3.12it/s]\n"
     ]
    },
    {
     "name": "stdout",
     "output_type": "stream",
     "text": [
      "Average Validation Loss: 2.0850, Average Validation Accuracy: 0.1150\n",
      "Epoch 9 completed.\n",
      "\n",
      "Epoch 10/200\n"
     ]
    },
    {
     "name": "stderr",
     "output_type": "stream",
     "text": [
      "Training: 100%|██████████| 50/50 [00:07<00:00,  6.86it/s]\n"
     ]
    },
    {
     "name": "stdout",
     "output_type": "stream",
     "text": [
      "Average Train Loss: 2.0963\n"
     ]
    },
    {
     "name": "stderr",
     "output_type": "stream",
     "text": [
      "Evaluating: 100%|██████████| 7/7 [00:02<00:00,  2.99it/s]\n"
     ]
    },
    {
     "name": "stdout",
     "output_type": "stream",
     "text": [
      "Average Validation Loss: 2.0804, Average Validation Accuracy: 0.1228\n",
      "Epoch 10 completed.\n",
      "\n",
      "Epoch 11/200\n"
     ]
    },
    {
     "name": "stderr",
     "output_type": "stream",
     "text": [
      "Training: 100%|██████████| 50/50 [00:07<00:00,  6.82it/s]\n"
     ]
    },
    {
     "name": "stdout",
     "output_type": "stream",
     "text": [
      "Average Train Loss: 2.0951\n"
     ]
    },
    {
     "name": "stderr",
     "output_type": "stream",
     "text": [
      "Evaluating: 100%|██████████| 7/7 [00:02<00:00,  3.43it/s]\n"
     ]
    },
    {
     "name": "stdout",
     "output_type": "stream",
     "text": [
      "Average Validation Loss: 2.0800, Average Validation Accuracy: 0.1328\n",
      "Epoch 11 completed.\n",
      "\n",
      "Epoch 12/200\n"
     ]
    },
    {
     "name": "stderr",
     "output_type": "stream",
     "text": [
      "Training: 100%|██████████| 50/50 [00:07<00:00,  7.12it/s]\n"
     ]
    },
    {
     "name": "stdout",
     "output_type": "stream",
     "text": [
      "Average Train Loss: 2.0966\n"
     ]
    },
    {
     "name": "stderr",
     "output_type": "stream",
     "text": [
      "Evaluating: 100%|██████████| 7/7 [00:02<00:00,  2.86it/s]\n"
     ]
    },
    {
     "name": "stdout",
     "output_type": "stream",
     "text": [
      "Average Validation Loss: 2.0791, Average Validation Accuracy: 0.1350\n",
      "Epoch 12 completed.\n",
      "\n",
      "Epoch 13/200\n"
     ]
    },
    {
     "name": "stderr",
     "output_type": "stream",
     "text": [
      "Training: 100%|██████████| 50/50 [00:06<00:00,  7.58it/s]\n"
     ]
    },
    {
     "name": "stdout",
     "output_type": "stream",
     "text": [
      "Average Train Loss: 2.0948\n"
     ]
    },
    {
     "name": "stderr",
     "output_type": "stream",
     "text": [
      "Evaluating: 100%|██████████| 7/7 [00:02<00:00,  3.46it/s]\n"
     ]
    },
    {
     "name": "stdout",
     "output_type": "stream",
     "text": [
      "Average Validation Loss: 2.0786, Average Validation Accuracy: 0.1350\n",
      "Epoch 13 completed.\n",
      "\n",
      "Epoch 14/200\n"
     ]
    },
    {
     "name": "stderr",
     "output_type": "stream",
     "text": [
      "Training: 100%|██████████| 50/50 [00:06<00:00,  8.19it/s]\n"
     ]
    },
    {
     "name": "stdout",
     "output_type": "stream",
     "text": [
      "Average Train Loss: 2.0929\n"
     ]
    },
    {
     "name": "stderr",
     "output_type": "stream",
     "text": [
      "Evaluating: 100%|██████████| 7/7 [00:02<00:00,  3.32it/s]\n"
     ]
    },
    {
     "name": "stdout",
     "output_type": "stream",
     "text": [
      "Average Validation Loss: 2.0960, Average Validation Accuracy: 0.1183\n",
      "Epoch 14 completed.\n",
      "\n",
      "Epoch 15/200\n"
     ]
    },
    {
     "name": "stderr",
     "output_type": "stream",
     "text": [
      "Training: 100%|██████████| 50/50 [00:06<00:00,  7.96it/s]\n"
     ]
    },
    {
     "name": "stdout",
     "output_type": "stream",
     "text": [
      "Average Train Loss: 2.1019\n"
     ]
    },
    {
     "name": "stderr",
     "output_type": "stream",
     "text": [
      "Evaluating: 100%|██████████| 7/7 [00:01<00:00,  3.71it/s]\n"
     ]
    },
    {
     "name": "stdout",
     "output_type": "stream",
     "text": [
      "Average Validation Loss: 2.0927, Average Validation Accuracy: 0.1350\n",
      "Epoch 15 completed.\n",
      "\n",
      "Epoch 16/200\n"
     ]
    },
    {
     "name": "stderr",
     "output_type": "stream",
     "text": [
      "Training: 100%|██████████| 50/50 [00:05<00:00,  8.67it/s]\n"
     ]
    },
    {
     "name": "stdout",
     "output_type": "stream",
     "text": [
      "Average Train Loss: 2.1102\n"
     ]
    },
    {
     "name": "stderr",
     "output_type": "stream",
     "text": [
      "Evaluating: 100%|██████████| 7/7 [00:02<00:00,  3.49it/s]\n"
     ]
    },
    {
     "name": "stdout",
     "output_type": "stream",
     "text": [
      "Average Validation Loss: 2.0774, Average Validation Accuracy: 0.1172\n",
      "Epoch 16 completed.\n",
      "\n",
      "Epoch 17/200\n"
     ]
    },
    {
     "name": "stderr",
     "output_type": "stream",
     "text": [
      "Training:   0%|          | 0/50 [00:00<?, ?it/s]Exception ignored in: <function _releaseLock at 0x7f2a260e0ea0>\n",
      "Traceback (most recent call last):\n",
      "  File \"/home/tiago/.local/share/uv/python/cpython-3.12.9-linux-x86_64-gnu/lib/python3.12/logging/__init__.py\", line 243, in _releaseLock\n",
      "    def _releaseLock():\n",
      "    \n",
      "KeyboardInterrupt: \n"
     ]
    }
   ],
   "source": [
    "supervised_learning.train(\n",
    "    model=classifier,\n",
    "    optimizer=optimizer,\n",
    "    train_dataloader=train_dataloader,\n",
    "    eval_dataloader=val_dataloader,\n",
    "    epochs=200,\n",
    "    patience_for_stop=50,\n",
    "    use_cuda=True,\n",
    "    use_mlflow=False,\n",
    "    use_eval=True,\n",
    ")"
   ]
  },
  {
   "cell_type": "code",
   "execution_count": null,
   "id": "8f1f4092",
   "metadata": {},
   "outputs": [
    {
     "data": {
      "text/plain": [
       "torch.Size([1, 80000])"
      ]
     },
     "execution_count": 36,
     "metadata": {},
     "output_type": "execute_result"
    }
   ],
   "source": [
    "x = train_dataset[0][0].unsqueeze(0).cuda()\n",
    "x.shape"
   ]
  },
  {
   "cell_type": "code",
   "execution_count": null,
   "id": "787f5367",
   "metadata": {},
   "outputs": [
    {
     "data": {
      "text/plain": [
       "tensor([[[ 0.4901, -0.0320, -0.3615,  ..., -0.1829,  0.1387,  0.4573],\n",
       "         [ 0.4884, -0.0174, -0.3327,  ..., -0.1704,  0.1437,  0.4475],\n",
       "         [ 0.4630, -0.0230, -0.3686,  ..., -0.1622,  0.1093,  0.4443],\n",
       "         ...,\n",
       "         [ 0.4642, -0.0509, -0.3418,  ..., -0.1416,  0.1664,  0.4556],\n",
       "         [ 0.4828, -0.0564, -0.3654,  ..., -0.1748,  0.1264,  0.4487],\n",
       "         [ 0.4979, -0.0068, -0.3119,  ..., -0.1976,  0.1512,  0.4387]]],\n",
       "       device='cuda:0', grad_fn=<ViewBackward0>)"
      ]
     },
     "execution_count": 39,
     "metadata": {},
     "output_type": "execute_result"
    }
   ],
   "source": [
    "classifier.backbone(x)"
   ]
  },
  {
   "cell_type": "code",
   "execution_count": null,
   "id": "5a9438cb",
   "metadata": {},
   "outputs": [
    {
     "data": {
      "text/plain": [
       "tensor([[[ 3.3578,  0.3539,  0.2803,  ...,  9.5505, 13.0295, 18.2513],\n",
       "         [ 3.3257,  0.5429,  0.3146,  ..., 13.8293, 19.3040, 19.8438],\n",
       "         [ 3.5678,  0.8666,  0.3766,  ..., 20.0199, 28.7554, 24.4701],\n",
       "         ...,\n",
       "         [ 5.3115, 10.7055, 15.4330,  ..., 12.7678, 12.3853, 29.9546],\n",
       "         [12.1376,  8.6285, 13.7737,  ..., 25.0388,  9.8453, 31.4718],\n",
       "         [14.4836,  6.4290, 11.2217,  ..., 44.2849, 29.0489, 30.4768]]],\n",
       "       device='cuda:0')"
      ]
     },
     "execution_count": 34,
     "metadata": {},
     "output_type": "execute_result"
    }
   ],
   "source": []
  }
 ],
 "metadata": {
  "kernelspec": {
   "display_name": "inspertorchaudio (3.12.9)",
   "language": "python",
   "name": "python3"
  },
  "language_info": {
   "codemirror_mode": {
    "name": "ipython",
    "version": 3
   },
   "file_extension": ".py",
   "mimetype": "text/x-python",
   "name": "python",
   "nbconvert_exporter": "python",
   "pygments_lexer": "ipython3",
   "version": "3.12.9"
  }
 },
 "nbformat": 4,
 "nbformat_minor": 5
}
